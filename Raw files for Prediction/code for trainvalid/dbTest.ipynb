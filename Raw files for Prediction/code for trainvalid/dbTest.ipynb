{
 "cells": [
  {
   "cell_type": "code",
   "execution_count": 1,
   "metadata": {},
   "outputs": [],
   "source": [
    "import dboperation\n",
    "\n",
    "dBOperation = dboperation.dBOperation()"
   ]
  },
  {
   "cell_type": "code",
   "execution_count": 7,
   "metadata": {},
   "outputs": [],
   "source": [
    "import rawValidation\n",
    "path = 'Training_Batch_Files'\n",
    "raw_data = rawValidation.Raw_Data_validation(path)"
   ]
  },
  {
   "cell_type": "code",
   "execution_count": 2,
   "metadata": {},
   "outputs": [],
   "source": [
    "import sqlite3\n",
    "from datetime import datetime\n",
    "from os import listdir\n",
    "import os\n",
    "import re\n",
    "import json\n",
    "import shutil\n",
    "import pandas\n",
    "with open('schema_traning.json', 'r') as f:\n",
    "    dic = json.load(f)\n",
    "    f.close()\n",
    "    pattern = dic['SampleFileName']\n",
    "    LengthOfDateStampInFile = dic['LengthOfDateStampInFile']\n",
    "    LengthOfTimeStampInFile = dic['LengthOfTimeStampInFile']\n",
    "    column_names = dic['ColName']\n",
    "    NumberOfColumns = dic['NumberOfColumns']"
   ]
  },
  {
   "cell_type": "code",
   "execution_count": 5,
   "metadata": {},
   "outputs": [],
   "source": [
    "dBOperation.createTableDb('Training', column_names)"
   ]
  },
  {
   "cell_type": "code",
   "execution_count": 6,
   "metadata": {},
   "outputs": [],
   "source": [
    "dBOperation.insertIntoTableGoodData('Training')"
   ]
  },
  {
   "cell_type": "code",
   "execution_count": 8,
   "metadata": {},
   "outputs": [],
   "source": [
    "raw_data.deleteExistingGoodDataTrainingFolder()"
   ]
  },
  {
   "cell_type": "code",
   "execution_count": 9,
   "metadata": {},
   "outputs": [],
   "source": [
    "raw_data.moveBadFilesToArchiveBad()"
   ]
  },
  {
   "cell_type": "code",
   "execution_count": 10,
   "metadata": {},
   "outputs": [],
   "source": [
    "dBOperation.selectingDatafromtableintocsv('Training')"
   ]
  },
  {
   "cell_type": "code",
   "execution_count": null,
   "metadata": {},
   "outputs": [],
   "source": []
  }
 ],
 "metadata": {
  "kernelspec": {
   "display_name": "Python 3",
   "language": "python",
   "name": "python3"
  },
  "language_info": {
   "codemirror_mode": {
    "name": "ipython",
    "version": 3
   },
   "file_extension": ".py",
   "mimetype": "text/x-python",
   "name": "python",
   "nbconvert_exporter": "python",
   "pygments_lexer": "ipython3",
   "version": "3.7.6"
  }
 },
 "nbformat": 4,
 "nbformat_minor": 2
}
